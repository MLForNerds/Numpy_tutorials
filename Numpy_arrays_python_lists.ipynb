{
  "nbformat": 4,
  "nbformat_minor": 0,
  "metadata": {
    "colab": {
      "provenance": []
    },
    "kernelspec": {
      "name": "python3",
      "display_name": "Python 3"
    },
    "language_info": {
      "name": "python"
    }
  },
  "cells": [
    {
      "cell_type": "code",
      "execution_count": null,
      "metadata": {
        "colab": {
          "base_uri": "https://localhost:8080/"
        },
        "id": "9G2SqEYGfc68",
        "outputId": "cd07a2ec-2db6-47f6-c128-edb5f9efff1f"
      },
      "outputs": [
        {
          "output_type": "stream",
          "name": "stdout",
          "text": [
            "Looking in indexes: https://pypi.org/simple, https://us-python.pkg.dev/colab-wheels/public/simple/\n",
            "Requirement already satisfied: numpy in /usr/local/lib/python3.7/dist-packages (1.21.6)\n"
          ]
        }
      ],
      "source": [
        "!pip install numpy"
      ]
    },
    {
      "cell_type": "code",
      "source": [
        "# cleaner syntax\n",
        "# faster computation"
      ],
      "metadata": {
        "id": "zbptsLOfgHkh"
      },
      "execution_count": null,
      "outputs": []
    },
    {
      "cell_type": "code",
      "source": [
        "import numpy as np"
      ],
      "metadata": {
        "id": "FQJG0wTUgvgd"
      },
      "execution_count": null,
      "outputs": []
    },
    {
      "cell_type": "code",
      "source": [
        "a = [2,3,4]\n",
        "sq_a = []\n",
        "for i in a:\n",
        "  sq_a.append(i**2)\n",
        "sq_a"
      ],
      "metadata": {
        "colab": {
          "base_uri": "https://localhost:8080/"
        },
        "id": "K4wDzqi7i8WW",
        "outputId": "ed2a734c-88f8-447d-d4e4-f5f7b1f73399"
      },
      "execution_count": null,
      "outputs": [
        {
          "output_type": "execute_result",
          "data": {
            "text/plain": [
              "[4, 9, 16]"
            ]
          },
          "metadata": {},
          "execution_count": 5
        }
      ]
    },
    {
      "cell_type": "code",
      "source": [
        "b = np.array(a)\n",
        "b**2"
      ],
      "metadata": {
        "colab": {
          "base_uri": "https://localhost:8080/"
        },
        "id": "2k1z_mfAjKPv",
        "outputId": "e1cb189d-f522-489e-8a68-0570f530188b"
      },
      "execution_count": null,
      "outputs": [
        {
          "output_type": "execute_result",
          "data": {
            "text/plain": [
              "array([ 4,  9, 16])"
            ]
          },
          "metadata": {},
          "execution_count": 6
        }
      ]
    },
    {
      "cell_type": "code",
      "source": [
        "def matmul(A,B):\n",
        "  C = np.zeros((100,100))\n",
        "  for i in range(len(A)):\n",
        "    for j in range(len(A)):\n",
        "      for k in range(len(A)):\n",
        "        C[i][j] += A[i][k] * B[k][j]\n",
        "  return C"
      ],
      "metadata": {
        "id": "JpPPc9k2jQ73"
      },
      "execution_count": null,
      "outputs": []
    },
    {
      "cell_type": "code",
      "source": [
        "m1 = np.random.rand(100,100)\n",
        "m2 = np.random.rand(100,100)"
      ],
      "metadata": {
        "id": "lOo9RWBkkOBU"
      },
      "execution_count": null,
      "outputs": []
    },
    {
      "cell_type": "code",
      "source": [
        "%timeit print(matmul(m1,m2))"
      ],
      "metadata": {
        "id": "F_nUgMQ9kaDi"
      },
      "execution_count": null,
      "outputs": []
    },
    {
      "cell_type": "code",
      "source": [
        "%timeit print(np.matmul(m1,m2))"
      ],
      "metadata": {
        "id": "5_uWCHmtkjkD"
      },
      "execution_count": null,
      "outputs": []
    },
    {
      "cell_type": "code",
      "source": [
        "print(np.array([1,2.5,3.6]))"
      ],
      "metadata": {
        "id": "_zs728bwks80",
        "colab": {
          "base_uri": "https://localhost:8080/"
        },
        "outputId": "b8327e39-c132-4a0b-a737-8f3be5be10f6"
      },
      "execution_count": null,
      "outputs": [
        {
          "output_type": "stream",
          "name": "stdout",
          "text": [
            "[1.  2.5 3.6]\n"
          ]
        }
      ]
    },
    {
      "cell_type": "code",
      "source": [
        "print(np.array([1,2.5,\"Hello\"]))"
      ],
      "metadata": {
        "colab": {
          "base_uri": "https://localhost:8080/"
        },
        "id": "Hxae16Idovl8",
        "outputId": "97c4c986-ca4f-4564-8752-fd7a7a125630"
      },
      "execution_count": null,
      "outputs": [
        {
          "output_type": "stream",
          "name": "stdout",
          "text": [
            "['1' '2.5' 'Hello']\n"
          ]
        }
      ]
    },
    {
      "cell_type": "code",
      "source": [],
      "metadata": {
        "id": "b6kmsAKlo2Yy"
      },
      "execution_count": null,
      "outputs": []
    }
  ]
}
