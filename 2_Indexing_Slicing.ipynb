{
 "cells": [
  {
   "cell_type": "markdown",
   "metadata": {},
   "source": [
    "### Indexing in Numpy Arrays\n",
    "\n",
    "Numpy offers several ways to index into arrays:\n",
    "\n",
    "- **Integer indexing**: This method allows you to access specific items in the array based on their actual position or index. As arrays in Numpy are zero-indexed, `the first element is at index 0, the second element is at index 1, and so on`.\n",
    "\n",
    "- **Integer array indexing**: This method allows you to construct arbitrary arrays using the data from another array. For example, `array[[1, 2, 3]]` will create a new array with the values at indices 1, 2, and 3 of `array`.\n",
    "\n",
    "- **Boolean array indexing**: This method is used when we want to pick out a subset of an array that satisfy some condition. For example, `array[array > 2]` will return an array with all values in `array` that are greater than 2.\n",
    "\n",
    "- **Slicing**: Similar to Python lists, numpy arrays can be sliced. Since arrays may be multidimensional, you must specify a slice for each dimension of the array. For example, `array[:2, 1:3]` will return the first two rows and the second and third columns of `array`.\n",
    "\n",
    "- **Fancy indexing**: This is a term adopted by NumPy to describe indexing using integer arrays. For example, `array[[1, 0, 1, 0]]` will return a new array with the values at indices 1, 0, 1, and 0 of `array`."
   ]
  },
  {
   "cell_type": "markdown",
   "metadata": {},
   "source": [
    "### Integer Indexing for accessing elements and subarrays"
   ]
  },
  {
   "cell_type": "code",
   "execution_count": 4,
   "metadata": {},
   "outputs": [
    {
     "name": "stdout",
     "output_type": "stream",
     "text": [
      "a =  [1 2 3 4]\n"
     ]
    }
   ],
   "source": [
    "# Define a numpy array a list\n",
    "import numpy as np\n",
    "a = np.array([1, 2, 3, 4])\n",
    "print(\"a = \", a)"
   ]
  },
  {
   "cell_type": "code",
   "execution_count": 5,
   "metadata": {},
   "outputs": [
    {
     "name": "stdout",
     "output_type": "stream",
     "text": [
      "a[0] =  1\n",
      "a[-1] =  4\n",
      "a[:2] =  [1 2]\n",
      "a[-2:] =  [3 4]\n",
      "a[1:] =  [2 3 4]\n",
      "a[1:3] =  [2 3]\n",
      "a[:3] =  [1 2 3]\n",
      "a[:] =  [1 2 3 4]\n",
      "a[::2] =  [1 3]\n",
      "a[1::2] =  [2 4]\n",
      "a[::-1] =  [4 3 2 1]\n",
      "a[::-2] =  [4 2]\n",
      "a[-1:0:-1] =  [4 3 2]\n",
      "a[-1:0:-2] =  [4 2]\n",
      "a[-1::-1] =  [4 3 2 1]\n",
      "a[-1::-2] =  [4 2]\n"
     ]
    }
   ],
   "source": [
    "# Select the first element of the array\n",
    "print(\"a[0] = \", a[0])\n",
    "\n",
    "# Select the last element of the array\n",
    "print(\"a[-1] = \", a[-1])  # -ve indexing similar to python list\n",
    "\n",
    "# Select the first two elements of the array\n",
    "print(\"a[:2] = \", a[:2])\n",
    "\n",
    "# Select the last two elements of the array\n",
    "print(\"a[-2:] = \", a[-2:])\n",
    "\n",
    "# Select the elements of the array from the second element to the end\n",
    "print(\"a[1:] = \", a[1:])\n",
    "\n",
    "# Select the elements of the array from the second element to the third element\n",
    "print(\"a[1:3] = \", a[1:3])\n",
    "\n",
    "# Select the elements of the array from the first element to the third element\n",
    "print(\"a[:3] = \", a[:3])\n",
    "\n",
    "# Select the elements of the array from the first element to the last element\n",
    "print(\"a[:] = \", a[:])\n",
    "\n",
    "# Select the elements of the array from the first element to the last element with a step of 2\n",
    "print(\"a[::2] = \", a[::2])\n",
    "\n",
    "# Select the elements of the array from the second element to the last element with a step of 2\n",
    "print(\"a[1::2] = \", a[1::2])\n",
    "\n",
    "# Select the elements of the array from the last element to the first element\n",
    "print(\"a[::-1] = \", a[::-1])\n",
    "\n",
    "# Select the elements of the array from the last element to the first element with a step of 2\n",
    "print(\"a[::-2] = \", a[::-2])\n",
    "\n",
    "# Select the elements of the array from the last element to the second element\n",
    "print(\"a[-1:0:-1] = \", a[-1:0:-1])\n",
    "\n",
    "# Select the elements of the array from the last element to the second element with a step of 2\n",
    "print(\"a[-1:0:-2] = \", a[-1:0:-2])\n",
    "\n",
    "# Select the elements of the array from the last element to the first element\n",
    "print(\"a[-1::-1] = \", a[-1::-1])\n",
    "\n",
    "# Select the elements of the array from the last element to the first element with a step of 2\n",
    "print(\"a[-1::-2] = \", a[-1::-2])"
   ]
  },
  {
   "cell_type": "code",
   "execution_count": null,
   "metadata": {},
   "outputs": [],
   "source": []
  }
 ],
 "metadata": {
  "kernelspec": {
   "display_name": "base",
   "language": "python",
   "name": "python3"
  },
  "language_info": {
   "codemirror_mode": {
    "name": "ipython",
    "version": 3
   },
   "file_extension": ".py",
   "mimetype": "text/x-python",
   "name": "python",
   "nbconvert_exporter": "python",
   "pygments_lexer": "ipython3",
   "version": "3.11.5"
  }
 },
 "nbformat": 4,
 "nbformat_minor": 2
}
