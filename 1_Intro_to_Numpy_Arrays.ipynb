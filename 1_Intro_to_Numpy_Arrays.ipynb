{
 "cells": [
  {
   "cell_type": "markdown",
   "metadata": {},
   "source": [
    "### Introduction\n",
    "\n",
    "- Numpy is the main library for Numerical Computing in Python.\n",
    "- All Matrix operations can be performed using Numpy\n",
    "- It has optimized and vectorized implementations of all operations that can be performed on a Tensor (Multi-dimensional Array)\n"
   ]
  },
  {
   "cell_type": "code",
   "execution_count": 1,
   "metadata": {},
   "outputs": [],
   "source": [
    "# Import the library\n",
    "import numpy as np"
   ]
  },
  {
   "cell_type": "markdown",
   "metadata": {},
   "source": [
    "### Different ways of creating numpy array\n",
    "\n",
    "#### Method 1: Using a Python list\n",
    " Description: Create a numpy array from a Python list.\n",
    " - Example usage:   \n",
    "    arr = np.array([1, 2, 3, 4, 5])  \n",
    "    print(arr)  # Output: [1 2 3 4 5]  \n",
    "    \n",
    "\n",
    "#### Method 2: Using numpy functions\n",
    " Description: Create a numpy array using numpy functions like zeros, ones, arange, etc.\n",
    " - Example usage:  \n",
    "   arr = np.zeros((3, 3))  \n",
    "   print(arr)  # Output: [[0. 0. 0.]  \n",
    "                         [0. 0. 0.]  \n",
    "                         [0. 0. 0.]]  \n",
    "\n",
    "#### Method 3: Using random numbers\n",
    " Description: Create a numpy array with random numbers using numpy's random module.\n",
    " - Example usage:   \n",
    "   arr = np.random.rand(5)  \n",
    "   print(arr)  # Output: [0.12345678 0.98765432 0.54321098 0.87654321 0.23456789]\n"
   ]
  },
  {
   "cell_type": "markdown",
   "metadata": {},
   "source": [
    "### Creating Numpy Arrays from Lists and other numpy arrays"
   ]
  },
  {
   "cell_type": "code",
   "execution_count": 8,
   "metadata": {},
   "outputs": [
    {
     "name": "stdout",
     "output_type": "stream",
     "text": [
      "1-D Array:  [1 2 3 4 5]\n",
      "2-D Array:  [[1 2 3]\n",
      " [4 5 6]]\n",
      "3-D Array:  [[[ 1  2  3]\n",
      "  [ 4  5  6]]\n",
      "\n",
      " [[ 7  8  9]\n",
      "  [10 11 12]]]\n",
      "2-D Array from 1-D Array:  [[1 2 3 4 5]\n",
      " [1 2 3 4 5]\n",
      " [1 2 3 4 5]]\n",
      "2-D Array from 1-D Array and List:  [[ 1  2  3  4  5]\n",
      " [ 6  7  8  9 10]]\n"
     ]
    }
   ],
   "source": [
    "# Define a dummy array for 1-D\n",
    "arr1 = np.array([1, 2, 3, 4, 5])   # 1-D array initialization from a list\n",
    "print(\"1-D Array: \", arr1)\n",
    "\n",
    "# Define a dummy array for 2-D\n",
    "arr2 = np.array([[1, 2, 3], [4, 5, 6]])   # 2-D array initialization from a list of lists\n",
    "print(\"2-D Array: \", arr2)\n",
    "\n",
    "# Define a dummy array for 3-D\n",
    "arr3 = np.array([[[1, 2, 3], [4, 5, 6]], [[7, 8, 9], [10, 11, 12]]])   # 3-D array initialization from a list of lists of lists\n",
    "print(\"3-D Array: \", arr3)\n",
    "\n",
    "#Define a numpy array using arr1\n",
    "arr4 = np.array([arr1, arr1, arr1])   # 2-D array initialization from a list of 1-D arrays\n",
    "print(\"2-D Array from 1-D Array: \", arr4)\n",
    "\n",
    "#Define a numpy array using arr1 and a list\n",
    "arr5 = np.array([arr1, [6, 7, 8, 9, 10]])   # 2-D array initialization from a list of 1-D arrays and a list\n",
    "print(\"2-D Array from 1-D Array and List: \", arr5)"
   ]
  },
  {
   "cell_type": "markdown",
   "metadata": {},
   "source": [
    "### Creating Numpy Arrays using Numpy Functions\n",
    "- **empty()**\n",
    "- **zeros()**\n",
    "- **ones()**\n",
    "- **full()**\n",
    "- **eye()**\n",
    "- **arange()**"
   ]
  },
  {
   "cell_type": "code",
   "execution_count": 17,
   "metadata": {},
   "outputs": [
    {
     "name": "stdout",
     "output_type": "stream",
     "text": [
      "Empty Array:  [[1. 0. 0.]\n",
      " [0. 1. 0.]\n",
      " [0. 0. 1.]]\n",
      "Empty Array with dtype as int:  [[4 1 4]\n",
      " [1 2 2]\n",
      " [0 1 1]]\n",
      "Zeros Array:  [[0. 0. 0.]\n",
      " [0. 0. 0.]\n",
      " [0. 0. 0.]]\n",
      "Ones Array:  [[1. 1. 1.]\n",
      " [1. 1. 1.]\n",
      " [1. 1. 1.]]\n",
      "Full Array:  [[5 5 5]\n",
      " [5 5 5]\n",
      " [5 5 5]]\n",
      "Identity Matrix:  [[1. 0. 0.]\n",
      " [0. 1. 0.]\n",
      " [0. 0. 1.]]\n",
      "Array using arange():  [0 2 4 6 8]\n",
      "Array using linspace():  [ 0.   2.5  5.   7.5 10. ]\n"
     ]
    }
   ],
   "source": [
    "#Define a numpy array using empty() function\n",
    "arr_empty = np.empty((3, 3))\n",
    "print(\"Empty Array: \", arr_empty)\n",
    "\n",
    "#Define a numpy array using empty() function with dtype as int\n",
    "arr_empty_int = np.empty((3, 3), dtype=int)\n",
    "print(\"Empty Array with dtype as int: \", arr_empty_int)\n",
    "\n",
    "#Define a numpy array using zeros() function\n",
    "arr_zeros = np.zeros((3, 3))  # 3x3 array with all elements as 0\n",
    "print(\"Zeros Array: \", arr_zeros)\n",
    "\n",
    "#Define a numpy array using ones() function\n",
    "arr_ones = np.ones((3, 3))  # 3x3 array with all elements as 1\n",
    "print(\"Ones Array: \", arr_ones)\n",
    "\n",
    "#Define a numpy array using full() function\n",
    "arr_full = np.full((3, 3), 5)  # 3x3 array with all elements as 5\n",
    "print(\"Full Array: \", arr_full)\n",
    "\n",
    "#Define a numpy array using eye() function\n",
    "arr_eye = np.eye(3) # 3x3 identity matrix\n",
    "print(\"Identity Matrix: \", arr_eye)\n",
    "\n",
    "#Define a numpy array using arange() function\n",
    "arr_arange = np.arange(0, 10, 2)  # 0 to 10 with a step of 2\n",
    "print(\"Array using arange(): \", arr_arange)\n",
    "\n",
    "#Define a numpy array using linspace() function\n",
    "arr_linspace = np.linspace(0, 10, 5)   # 5 elements between 0 and 10 that are equally spaced\n",
    "print(\"Array using linspace(): \", arr_linspace)\n",
    "\n"
   ]
  },
  {
   "cell_type": "markdown",
   "metadata": {},
   "source": [
    "### Creating Numpy Arrays Using Random Functions\n",
    "\n",
    "Numpy provides several functions to create arrays:\n",
    "\n",
    "- **`numpy.random.rand()`**: This function creates an array of the given shape and populates it with random samples from a uniform distribution over [0, 1).\n",
    "- **`numpy.random.randn()`**: This function returns a sample (or samples) from the \"standard normal\" distribution.\n",
    "- **`numpy.random.randint()`**: This function returns random integers from the \"discrete uniform\" distribution in the \"half-open\" interval [low, high).\n",
    "- **`numpy.random.random_sample()`**: This function returns random floats in the half-open interval [0.0, 1.0).\n",
    "- **`numpy.random.choice()`**: This function generates a random sample from a given 1-D array."
   ]
  },
  {
   "cell_type": "code",
   "execution_count": 14,
   "metadata": {},
   "outputs": [
    {
     "name": "stdout",
     "output_type": "stream",
     "text": [
      "Random Array:  [[0.38344152 0.79172504 0.52889492]\n",
      " [0.56804456 0.92559664 0.07103606]\n",
      " [0.0871293  0.0202184  0.83261985]]\n",
      "Random Normal Array:  [[ 0.44386323  0.33367433  1.49407907]\n",
      " [-0.20515826  0.3130677  -0.85409574]\n",
      " [-2.55298982  0.6536186   0.8644362 ]]\n",
      "Random Integer Array:  [[7 2 0]\n",
      " [0 4 5]\n",
      " [5 6 8]]\n",
      "Random Choice Array:  [[5 2 5]\n",
      " [2 3 3]\n",
      " [1 2 2]]\n",
      "Random Seed Array:  [[0.5488135  0.71518937 0.60276338]\n",
      " [0.54488318 0.4236548  0.64589411]\n",
      " [0.43758721 0.891773   0.96366276]]\n"
     ]
    }
   ],
   "source": [
    "# Define a numpy array using random.rand() function\n",
    "arr_rand = np.random.rand(3, 3)  # 3x3 array with random values between 0 and 1\n",
    "print(\"Random Array: \", arr_rand)\n",
    "\n",
    "# Define a numpy array using random.randn() function\n",
    "arr_randn = np.random.randn(3, 3)  # 3x3 array with random values from a normal distribution\n",
    "print(\"Random Normal Array: \", arr_randn)\n",
    "\n",
    "# Define a numpy array using random.randint() function\n",
    "arr_randint = np.random.randint(0, 10, (3, 3))  # 3x3 array with random integers between 0 and 10\n",
    "print(\"Random Integer Array: \", arr_randint)\n",
    "\n",
    "# Define a numpy array using random.choice() function\n",
    "arr_choice = np.random.choice([1, 2, 3, 4, 5], (3, 3))  # 3x3 array with random values from the given list\n",
    "print(\"Random Choice Array: \", arr_choice)\n",
    "\n",
    "# Define a numpy array using random.seed() function\n",
    "np.random.seed(0)  # Seed the random number generator\n",
    "arr_seed = np.random.rand(3, 3)  # 3x3 array with random values between 0 and 1\n",
    "print(\"Random Seed Array: \", arr_seed)"
   ]
  },
  {
   "cell_type": "markdown",
   "metadata": {},
   "source": [
    "### Creating Numpy Arrays Using Like Functions\n",
    "\n",
    "Numpy provides several functions to create arrays that are \"like\" other arrays:\n",
    "\n",
    "- **`numpy.zeros_like()`**: This function returns an array of zeros with the same shape and type as a given array.\n",
    "- **`numpy.ones_like()`**: This function returns an array of ones with the same shape and type as a given array.\n",
    "- **`numpy.empty_like()`**: This function returns a new array with the same shape and type as a given array, without initializing entries.\n",
    "- **`numpy.full_like()`**: This function returns a new array with the same shape and type as a given array, filled with a fill value."
   ]
  },
  {
   "cell_type": "code",
   "execution_count": 15,
   "metadata": {},
   "outputs": [
    {
     "name": "stdout",
     "output_type": "stream",
     "text": [
      "Zeros Like Array:  [[0 0]\n",
      " [0 0]]\n",
      "Ones Like Array:  [[1 1]\n",
      " [1 1]]\n",
      "Full Like Array:  [[5 5]\n",
      " [5 5]]\n",
      "Empty Like Array:  [[-1464094608         332]\n",
      " [          0           0]]\n"
     ]
    }
   ],
   "source": [
    "# Define a numpy array of (2,2) with list of lists\n",
    "dummy = np.array([[1, 2], [3, 4]])\n",
    "\n",
    "# Define a numpy array using zeros_like() function\n",
    "arr_zeros_like = np.zeros_like(dummy)  # 2x2 array with all elements as 0\n",
    "print(\"Zeros Like Array: \", arr_zeros_like)\n",
    "\n",
    "# Define a numpy array using ones_like() function\n",
    "arr_ones_like = np.ones_like(dummy)  # 2x2 array with all elements as 1\n",
    "print(\"Ones Like Array: \", arr_ones_like)\n",
    "\n",
    "# Define a numpy array using full_like() function\n",
    "arr_full_like = np.full_like(dummy, 5)  # 2x2 array with all elements as 5\n",
    "print(\"Full Like Array: \", arr_full_like)\n",
    "\n",
    "# Define a numpy array using empty_like() function\n",
    "arr_empty_like = np.empty_like(dummy)  # 2x2 array with random values\n",
    "print(\"Empty Like Array: \", arr_empty_like)"
   ]
  },
  {
   "cell_type": "markdown",
   "metadata": {},
   "source": [
    "### Attributes of a Numpy Array\n",
    "\n",
    "A Numpy array has several attributes:\n",
    "\n",
    "- **`numpy.ndarray.shape`**: This attribute returns a tuple representing the dimensions of the array.\n",
    "- **`numpy.ndarray.size`**: This attribute returns the total number of elements of the array.\n",
    "- **`numpy.ndarray.ndim`**: This attribute returns the number of array dimensions. This is nothing but rank.\n",
    "- **`numpy.ndarray.dtype`**: This attribute returns the data type of the array elements.\n",
    "- **`numpy.ndarray.itemsize`**: This attribute returns the length of one array element in bytes.\n",
    "- **`numpy.ndarray.nbytes`**: This attribute returns the total size of the array\n",
    "- **`numpy.ndarray.data`**: This attribute returns the buffer containing the actual elements of the array."
   ]
  },
  {
   "cell_type": "code",
   "execution_count": 18,
   "metadata": {},
   "outputs": [
    {
     "name": "stdout",
     "output_type": "stream",
     "text": [
      "Shape of the array:  (3, 3)\n",
      "Number of dimensions of the array:  2\n",
      "Number of elements in the array:  9\n",
      "Data type of the elements in the array:  int32\n",
      "Size of the elements in the array:  4\n",
      "Total size of the array:  36\n",
      "Data buffer of the array:  <memory at 0x0000014CAA4F9080>\n"
     ]
    }
   ],
   "source": [
    "# Define a numpy array of (3,3) with list of lists\n",
    "dummy = np.array([[1, 2, 3], [4, 5, 6], [7, 8, 9]])\n",
    "\n",
    "# Get the shape of the array\n",
    "print(\"Shape of the array: \", dummy.shape)\n",
    "\n",
    "# Get the number of dimensions of the array\n",
    "print(\"Number of dimensions of the array: \", dummy.ndim)\n",
    "\n",
    "# Get the number of elements in the array\n",
    "print(\"Number of elements in the array: \", dummy.size)\n",
    "\n",
    "# Get the data type of the elements in the array\n",
    "print(\"Data type of the elements in the array: \", dummy.dtype)\n",
    "\n",
    "# Get the size of the elements in the array\n",
    "print(\"Size of the elements in the array: \", dummy.itemsize)\n",
    "\n",
    "# Get the total size of the array\n",
    "print(\"Total size of the array: \", dummy.nbytes)\n",
    "\n",
    "# SHow data buffer of the array\n",
    "print(\"Data buffer of the array: \", dummy.data)\n"
   ]
  }
 ],
 "metadata": {
  "kernelspec": {
   "display_name": "base",
   "language": "python",
   "name": "python3"
  },
  "language_info": {
   "codemirror_mode": {
    "name": "ipython",
    "version": 3
   },
   "file_extension": ".py",
   "mimetype": "text/x-python",
   "name": "python",
   "nbconvert_exporter": "python",
   "pygments_lexer": "ipython3",
   "version": "3.11.5"
  }
 },
 "nbformat": 4,
 "nbformat_minor": 2
}
